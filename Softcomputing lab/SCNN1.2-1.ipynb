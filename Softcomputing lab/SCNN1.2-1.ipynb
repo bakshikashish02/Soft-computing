{
 "cells": [
  {
   "cell_type": "code",
   "execution_count": 1,
   "id": "45e442db",
   "metadata": {},
   "outputs": [],
   "source": [
    "import numpy as np"
   ]
  },
  {
   "cell_type": "code",
   "execution_count": 2,
   "id": "d4adce31",
   "metadata": {},
   "outputs": [],
   "source": [
    "def Neural_Network(x1, x2, w1, w2, bias):\n",
    "    y = x1*w1 + x2*w2 + bias\n",
    "    return sigmoid(y)\n"
   ]
  },
  {
   "cell_type": "code",
   "execution_count": 3,
   "id": "460a1613",
   "metadata": {},
   "outputs": [],
   "source": [
    "def sigmoid(x):\n",
    "    return (1/(1+np.exp(-x)))"
   ]
  },
  {
   "cell_type": "code",
   "execution_count": 4,
   "id": "35991c80",
   "metadata": {},
   "outputs": [],
   "source": [
    "w1 = np.random.randn()\n",
    "w2 = np.random.randn()\n",
    "bias = np.random.randn()"
   ]
  },
  {
   "cell_type": "code",
   "execution_count": 5,
   "id": "e240e5fa",
   "metadata": {},
   "outputs": [
    {
     "name": "stdout",
     "output_type": "stream",
     "text": [
      "Enter first input1\n",
      "Enter second input3\n"
     ]
    }
   ],
   "source": [
    "a = int(input(\"Enter first input\"))\n",
    "b = int(input(\"Enter second input\"))"
   ]
  },
  {
   "cell_type": "code",
   "execution_count": 6,
   "id": "5f95049e",
   "metadata": {},
   "outputs": [
    {
     "data": {
      "text/plain": [
       "0.9676349679039601"
      ]
     },
     "execution_count": 6,
     "metadata": {},
     "output_type": "execute_result"
    }
   ],
   "source": [
    "Neural_Network(a, b, w1, w2, bias)"
   ]
  },
  {
   "cell_type": "code",
   "execution_count": null,
   "id": "6b260292",
   "metadata": {},
   "outputs": [],
   "source": []
  }
 ],
 "metadata": {
  "kernelspec": {
   "display_name": "Python 3 (ipykernel)",
   "language": "python",
   "name": "python3"
  },
  "language_info": {
   "codemirror_mode": {
    "name": "ipython",
    "version": 3
   },
   "file_extension": ".py",
   "mimetype": "text/x-python",
   "name": "python",
   "nbconvert_exporter": "python",
   "pygments_lexer": "ipython3",
   "version": "3.9.12"
  }
 },
 "nbformat": 4,
 "nbformat_minor": 5
}
