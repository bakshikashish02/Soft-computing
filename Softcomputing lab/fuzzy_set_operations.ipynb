{
 "cells": [
  {
   "cell_type": "code",
   "execution_count": 1,
   "id": "17e0cdee",
   "metadata": {},
   "outputs": [
    {
     "name": "stdout",
     "output_type": "stream",
     "text": [
      "The Fuzzy Set is : {'a': 0.2, 'b': 0.2, 'c': 0.5, 'd': 0.1}\n",
      "Fuzzy Set Complement is : {'a': 0.8, 'b': 0.8, 'c': 0.5, 'd': 0.9}\n"
     ]
    }
   ],
   "source": [
    "\n",
    "A = dict()\n",
    "Y = dict()\n",
    "A = {\"a\": 0.2, \"b\": 0.2, \"c\": 0.5, \"d\": 0.1}\n",
    "print('The Fuzzy Set is :', A)\n",
    "for A_key in A:\n",
    "    Y[A_key]= 1-A[A_key]\n",
    "print('Fuzzy Set Complement is :', Y)"
   ]
  },
  {
   "cell_type": "code",
   "execution_count": 3,
   "id": "890e83c1",
   "metadata": {},
   "outputs": [
    {
     "name": "stdout",
     "output_type": "stream",
     "text": [
      "The First Fuzzy Set is : {'a': 0.2, 'b': 0.5, 'c': 0.7, 'd': 0.2}\n",
      "The Second Fuzzy Set is : {'a': 0.1, 'b': 0.1, 'c': 0.7, 'd': 0.5}\n",
      "Fuzzy Set Difference is : {'a': 0.2, 'b': 0.5, 'c': 0.30000000000000004, 'd': 0.2}\n"
     ]
    }
   ],
   "source": [
    "A = dict()\n",
    "B = dict()\n",
    "Y = dict()\n",
    "A = {\"a\": 0.2, \"b\": 0.5, \"c\": 0.7, \"d\": 0.2}\n",
    "B = {\"a\": 0.1, \"b\": 0.1, \"c\": 0.7, \"d\": 0.5}\n",
    "print('The First Fuzzy Set is :', A)\n",
    "print('The Second Fuzzy Set is :', B)\n",
    "\n",
    "for A_key, B_key in zip(A, B):\n",
    "    A_value = A[A_key]\n",
    "    B_value = B[B_key]\n",
    "    B_value = 1 - B_value\n",
    "    if A_value < B_value:\n",
    "        Y[A_key] = A_value\n",
    "    else:\n",
    "        Y[B_key] = B_value\n",
    "\n",
    "print('Fuzzy Set Difference is :', Y)"
   ]
  },
  {
   "cell_type": "code",
   "execution_count": 4,
   "id": "b7fba21f",
   "metadata": {},
   "outputs": [
    {
     "name": "stdout",
     "output_type": "stream",
     "text": [
      "The First Fuzzy Set is : {'a': 0.2, 'b': 0.5, 'c': 0.7, 'd': 0.2}\n",
      "The Second Fuzzy Set is : {'a': 0.1, 'b': 0.1, 'c': 0.7, 'd': 0.5}\n",
      "Fuzzy Set Intersection is : {'a': 0.1, 'b': 0.1, 'c': 0.7, 'd': 0.2}\n"
     ]
    }
   ],
   "source": [
    "A = dict()\n",
    "B = dict()\n",
    "Y = dict()\n",
    " \n",
    "A = {\"a\": 0.2, \"b\": 0.5, \"c\": 0.7, \"d\": 0.2}\n",
    "B = {\"a\": 0.1, \"b\": 0.1, \"c\": 0.7, \"d\": 0.5}\n",
    "print('The First Fuzzy Set is :', A)\n",
    "print('The Second Fuzzy Set is :', B)\n",
    "for A_key, B_key in zip(A, B):\n",
    "    A_value = A[A_key]\n",
    "    B_value = B[B_key]\n",
    "    if A_value < B_value:\n",
    "        Y[A_key] = A_value\n",
    "    else:\n",
    "        Y[B_key] = B_value\n",
    "\n",
    "print('Fuzzy Set Intersection is :', Y)"
   ]
  },
  {
   "cell_type": "code",
   "execution_count": 5,
   "id": "2699fafc",
   "metadata": {},
   "outputs": [
    {
     "name": "stdout",
     "output_type": "stream",
     "text": [
      "The First Fuzzy Set is : {'a': 0.2, 'b': 0.5, 'c': 0.7, 'd': 0.2}\n",
      "The Second Fuzzy Set is : {'a': 0.1, 'b': 0.1, 'c': 0.7, 'd': 0.5}\n",
      "Fuzzy Set Union is : {'a': 0.2, 'b': 0.5, 'c': 0.7, 'd': 0.5}\n"
     ]
    }
   ],
   "source": [
    "A = dict()\n",
    "B = dict()\n",
    "Y = dict()\n",
    "A = {\"a\": 0.2, \"b\": 0.5, \"c\": 0.7, \"d\": 0.2}\n",
    "B = {\"a\": 0.1, \"b\": 0.1, \"c\": 0.7, \"d\": 0.5}\n",
    " \n",
    "print('The First Fuzzy Set is :', A)\n",
    "print('The Second Fuzzy Set is :', B)\n",
    "for A_key, B_key in zip(A, B):\n",
    "    A_value = A[A_key]\n",
    "    B_value = B[B_key]\n",
    "    if A_value > B_value:\n",
    "        Y[A_key] = A_value\n",
    "    else:\n",
    "        Y[B_key] = B_value\n",
    "        \n",
    "print('Fuzzy Set Union is :', Y) \n"
   ]
  },
  {
   "cell_type": "code",
   "execution_count": null,
   "id": "ec355d36",
   "metadata": {},
   "outputs": [],
   "source": []
  }
 ],
 "metadata": {
  "kernelspec": {
   "display_name": "Python 3 (ipykernel)",
   "language": "python",
   "name": "python3"
  },
  "language_info": {
   "codemirror_mode": {
    "name": "ipython",
    "version": 3
   },
   "file_extension": ".py",
   "mimetype": "text/x-python",
   "name": "python",
   "nbconvert_exporter": "python",
   "pygments_lexer": "ipython3",
   "version": "3.9.12"
  }
 },
 "nbformat": 4,
 "nbformat_minor": 5
}
