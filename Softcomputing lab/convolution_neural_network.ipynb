{
 "cells": [
  {
   "cell_type": "code",
   "execution_count": 1,
   "id": "89054061",
   "metadata": {},
   "outputs": [],
   "source": [
    "import keras\n",
    "from keras.datasets import mnist\n",
    "from keras.models import Sequential\n",
    "from keras.layers import Dense, Dropout, Flatten\n",
    "from keras.layers import Conv2D, MaxPooling2D\n",
    "import numpy as np"
   ]
  },
  {
   "cell_type": "code",
   "execution_count": 2,
   "id": "32d063d1",
   "metadata": {},
   "outputs": [
    {
     "name": "stdout",
     "output_type": "stream",
     "text": [
      "Downloading data from https://storage.googleapis.com/tensorflow/tf-keras-datasets/mnist.npz\n",
      "11490434/11490434 [==============================] - 4s 0us/step\n",
      "x_train shape: (60000, 28, 28, 1)\n",
      "60000 train samples\n",
      "10000 test samples\n"
     ]
    }
   ],
   "source": [
    "batch_size = 128\n",
    "num_classes = 10\n",
    "epochs = 12\n",
    " # input image dimensions\n",
    "img_rows, img_cols = 28, 28\n",
    "# the data, split between train and test sets\n",
    "(x_train, y_train), (x_test, y_test) = mnist.load_data()\n",
    "x_train = x_train.reshape(60000,28,28,1)\n",
    "x_test = x_test.reshape(10000,28,28,1)\n",
    "print('x_train shape:', x_train.shape)\n",
    "print(x_train.shape[0], 'train samples')\n",
    "print(x_test.shape[0], 'test samples')"
   ]
  },
  {
   "cell_type": "code",
   "execution_count": 3,
   "id": "d91cf4f6",
   "metadata": {},
   "outputs": [],
   "source": [
    "# convert class vectors to binary class matrices\n",
    "y_train = keras.utils.to_categorical(y_train, num_classes)\n",
    "y_test = keras.utils.to_categorical(y_test, num_classes)"
   ]
  },
  {
   "cell_type": "code",
   "execution_count": 4,
   "id": "bc12ec3d",
   "metadata": {},
   "outputs": [
    {
     "name": "stderr",
     "output_type": "stream",
     "text": [
      "2022-11-14 07:40:23.378700: I tensorflow/core/platform/cpu_feature_guard.cc:193] This TensorFlow binary is optimized with oneAPI Deep Neural Network Library (oneDNN) to use the following CPU instructions in performance-critical operations:  SSE4.1 SSE4.2\n",
      "To enable them in other operations, rebuild TensorFlow with the appropriate compiler flags.\n"
     ]
    },
    {
     "name": "stdout",
     "output_type": "stream",
     "text": [
      "Epoch 1/12\n",
      "469/469 [==============================] - 86s 183ms/step - loss: 14.0981 - accuracy: 0.1627 - val_loss: 2.5763 - val_accuracy: 0.4438\n",
      "Epoch 2/12\n",
      "469/469 [==============================] - 87s 186ms/step - loss: 6.4570 - accuracy: 0.2704 - val_loss: 1.3663 - val_accuracy: 0.5763\n",
      "Epoch 3/12\n",
      "469/469 [==============================] - 86s 183ms/step - loss: 3.7098 - accuracy: 0.3305 - val_loss: 1.2215 - val_accuracy: 0.5949\n",
      "Epoch 4/12\n",
      "469/469 [==============================] - 85s 180ms/step - loss: 2.6101 - accuracy: 0.3594 - val_loss: 1.3096 - val_accuracy: 0.5928\n",
      "Epoch 5/12\n",
      "469/469 [==============================] - 89s 191ms/step - loss: 2.1444 - accuracy: 0.3769 - val_loss: 1.3550 - val_accuracy: 0.5998\n",
      "Epoch 6/12\n",
      "469/469 [==============================] - 88s 189ms/step - loss: 1.9444 - accuracy: 0.3965 - val_loss: 1.3430 - val_accuracy: 0.6142\n",
      "Epoch 7/12\n",
      "469/469 [==============================] - 1752s 4s/step - loss: 1.8127 - accuracy: 0.4207 - val_loss: 1.2720 - val_accuracy: 0.6572\n",
      "Epoch 8/12\n",
      "469/469 [==============================] - 84s 178ms/step - loss: 1.7196 - accuracy: 0.4511 - val_loss: 1.1845 - val_accuracy: 0.6833\n",
      "Epoch 9/12\n",
      "469/469 [==============================] - 81s 173ms/step - loss: 1.6319 - accuracy: 0.4724 - val_loss: 1.1115 - val_accuracy: 0.7084\n",
      "Epoch 10/12\n",
      "469/469 [==============================] - 82s 175ms/step - loss: 1.5726 - accuracy: 0.4933 - val_loss: 1.0360 - val_accuracy: 0.7297\n",
      "Epoch 11/12\n",
      "469/469 [==============================] - 81s 173ms/step - loss: 1.5022 - accuracy: 0.5171 - val_loss: 0.9571 - val_accuracy: 0.7507\n",
      "Epoch 12/12\n",
      "469/469 [==============================] - 84s 180ms/step - loss: 1.4467 - accuracy: 0.5346 - val_loss: 0.8938 - val_accuracy: 0.7703\n",
      "Test loss: 0.8937805891036987\n",
      "Test accuracy: 0.7702999711036682\n"
     ]
    }
   ],
   "source": [
    "model = Sequential()\n",
    "model.add(Conv2D(32, kernel_size=(3, 3),\n",
    "activation='relu',\n",
    "input_shape=(28,28,1)))\n",
    "model.add(Conv2D(64, (3, 3), activation='relu'))\n",
    "model.add(MaxPooling2D(pool_size=(2, 2)))\n",
    "model.add(Dropout(0.25))\n",
    "model.add(Flatten())\n",
    "model.add(Dense(128, activation='relu'))\n",
    "model.add(Dropout(0.5))\n",
    "model.add(Dense(num_classes, activation='softmax'))\n",
    "model.compile(loss=keras.losses.categorical_crossentropy,\n",
    "optimizer=keras.optimizers.Adadelta(),\n",
    "metrics=['accuracy'])\n",
    "model.fit(x_train, y_train,\n",
    "batch_size=batch_size,\n",
    "epochs=epochs,\n",
    "verbose=1,\n",
    "validation_data=(x_test, y_test))\n",
    "score = model.evaluate(x_test, y_test, verbose=0)\n",
    "print('Test loss:', score[0])\n",
    "print('Test accuracy:', score[1])\n"
   ]
  },
  {
   "cell_type": "code",
   "execution_count": null,
   "id": "1ab64be5",
   "metadata": {},
   "outputs": [],
   "source": []
  }
 ],
 "metadata": {
  "kernelspec": {
   "display_name": "Python 3 (ipykernel)",
   "language": "python",
   "name": "python3"
  },
  "language_info": {
   "codemirror_mode": {
    "name": "ipython",
    "version": 3
   },
   "file_extension": ".py",
   "mimetype": "text/x-python",
   "name": "python",
   "nbconvert_exporter": "python",
   "pygments_lexer": "ipython3",
   "version": "3.9.13"
  }
 },
 "nbformat": 4,
 "nbformat_minor": 5
}
