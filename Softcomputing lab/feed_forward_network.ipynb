{
 "cells": [
  {
   "cell_type": "code",
   "execution_count": 1,
   "id": "175c02f4",
   "metadata": {},
   "outputs": [
    {
     "name": "stdout",
     "output_type": "stream",
     "text": [
      "\n",
      " Input:\n",
      "[[1 0 1 0]\n",
      " [1 0 1 1]\n",
      " [0 1 0 1]]\n",
      "\n",
      " Actual Output:\n",
      "[[1]\n",
      " [1]\n",
      " [0]]\n"
     ]
    }
   ],
   "source": [
    "import numpy as np\n",
    "X=np.array([[1,0,1,0],[1,0,1,1],[0,1,0,1]])\n",
    "\n",
    "print ('\\n Input:')\n",
    "\n",
    "print(X)\n",
    "\n",
    "y=np.array([[1],[1],[0]])\n",
    "\n",
    "print('\\n Actual Output:')\n",
    "print(y)\n",
    "\n"
   ]
  },
  {
   "cell_type": "code",
   "execution_count": 2,
   "id": "297f708f",
   "metadata": {},
   "outputs": [],
   "source": [
    "def sigmoid (x):\n",
    "\n",
    "   return 1/(1+ np.exp(-x))\n",
    "\n",
    "# derivative of Sigmoid Function\n",
    "\n",
    "def derivatives_sigmoid(x):\n",
    "\n",
    "   return x *(1-x)"
   ]
  },
  {
   "cell_type": "code",
   "execution_count": 3,
   "id": "13b1937a",
   "metadata": {},
   "outputs": [],
   "source": [
    "epoch=5000\n",
    "\n",
    "lr=0.1 \n",
    "\n",
    "inputlayer_neurons = X.shape[1] \n",
    "\n",
    "hiddenlayer_neurons =3 \n",
    "\n",
    "output_neurons = 1 "
   ]
  },
  {
   "cell_type": "code",
   "execution_count": 4,
   "id": "ef849ff7",
   "metadata": {},
   "outputs": [],
   "source": [
    "wh=np.random.uniform(size=(inputlayer_neurons, hiddenlayer_neurons))\n",
    "\n",
    "bh=np.random.uniform(size=(1,hiddenlayer_neurons))\n",
    "\n",
    "wout=np.random.uniform(size= (hiddenlayer_neurons, output_neurons))\n",
    "\n",
    "bout=np.random.uniform(size=(1, output_neurons))"
   ]
  },
  {
   "cell_type": "code",
   "execution_count": 5,
   "id": "989b5d48",
   "metadata": {},
   "outputs": [
    {
     "name": "stdout",
     "output_type": "stream",
     "text": [
      "\n",
      " Output from the model:\n",
      "[[0.96849038]\n",
      " [0.96119117]\n",
      " [0.05807369]]\n"
     ]
    }
   ],
   "source": [
    "for i in range(epoch):\n",
    "\n",
    "\n",
    "   hidden_layer_input1=np.dot(X, wh)\n",
    "\n",
    "   hidden_layer_input=hidden_layer_input1+ bh\n",
    "\n",
    "   hiddenlayer_activations = sigmoid(hidden_layer_input)\n",
    "\n",
    "   output_layer_input1=np.dot(hiddenlayer_activations, wout)\n",
    "\n",
    "   output_layer_input= output_layer_input1+ bout\n",
    "\n",
    "   output= sigmoid(output_layer_input)\n",
    "\n",
    "   E = y-output\n",
    "\n",
    "   slope_output_layer= derivatives_sigmoid(output)\n",
    "\n",
    "   slope_hidden_layer= derivatives_sigmoid(hiddenlayer_activations)\n",
    "\n",
    "   d_output= E*slope_output_layer\n",
    "\n",
    "   Error_at_hidden_layer=d_output.dot(wout.T)\n",
    "\n",
    "   d_hiddenlayer=Error_at_hidden_layer*slope_hidden_layer\n",
    "\n",
    "   wout += hiddenlayer_activations.T.dot(d_output)*lr\n",
    "\n",
    "   bout += np.sum(d_output, axis=0, keepdims=True)*lr\n",
    "\n",
    "   wh += X.T.dot (d_hiddenlayer)*lr\n",
    "\n",
    "   bh+= np.sum(d_hiddenlayer, axis=0, keepdims=True)*lr\n",
    "\n",
    "print ('\\n Output from the model:')\n",
    "\n",
    "print (output)"
   ]
  },
  {
   "cell_type": "code",
   "execution_count": null,
   "id": "538bb114",
   "metadata": {},
   "outputs": [],
   "source": []
  }
 ],
 "metadata": {
  "kernelspec": {
   "display_name": "Python 3 (ipykernel)",
   "language": "python",
   "name": "python3"
  },
  "language_info": {
   "codemirror_mode": {
    "name": "ipython",
    "version": 3
   },
   "file_extension": ".py",
   "mimetype": "text/x-python",
   "name": "python",
   "nbconvert_exporter": "python",
   "pygments_lexer": "ipython3",
   "version": "3.9.12"
  },
  "vscode": {
   "interpreter": {
    "hash": "369f2c481f4da34e4445cda3fffd2e751bd1c4d706f27375911949ba6bb62e1c"
   }
  }
 },
 "nbformat": 4,
 "nbformat_minor": 5
}
